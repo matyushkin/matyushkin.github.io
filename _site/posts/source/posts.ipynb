{
 "cells": [
  {
   "cell_type": "markdown",
   "metadata": {},
   "source": [
    "# Цели и задачи\n",
    "\n",
    "**Цель** этого ipynb-файла и соответствующего Python отображения – генерировать html для соответствующей страницы articles."
   ]
  },
  {
   "cell_type": "markdown",
   "metadata": {},
   "source": [
    "# Текущие задачи\n",
    "\n",
    "* Отдельно определять число просмотров теста\n",
    "* Обрабатывать ошибки Connection Error -- делать пропуск и последующее обращение в конце списка до тех пор, пока список не будет целиком обновлён или ошибка не будет повторяться более 3 раз (статья удалена или что-то подобное)\n",
    "* Привести к виду отдельного самостоятельно выполняющегося Python-файла, который будет выводить лишь системную информацию"
   ]
  },
  {
   "cell_type": "code",
   "execution_count": 1,
   "metadata": {},
   "outputs": [],
   "source": [
    "import requests\n",
    "headers = requests.utils.default_headers()\n",
    "headers['User-Agent'] = 'Mozilla/5.0 (X11; Linux x86_64) AppleWebKit/537.36 (KHTML, like Gecko) Chrome/56.0.2924.87 Safari/537.36'\n",
    "\n",
    "import pandas as pd\n",
    "from bs4 import BeautifulSoup"
   ]
  },
  {
   "cell_type": "markdown",
   "metadata": {},
   "source": [
    "Данные о статьях записаны в виде csv-файла. Файл содержит:\n",
    "* `title` — заголовок статьи\n",
    "* `url` — полная ссылка на публикацию\n",
    "* `type` — тип публикации (перевод, статья, инструкция, курс или подборка)\n",
    "* `date` — дата публикации\n",
    "* `views` — число просмотров\n",
    "* `main` — главный тег статьи\n",
    "* `addtional` — дополнительные теги\n",
    "* `raiting` — мой личный рейтинг отношения к статье\n",
    "* `comment` — краткий комментарий"
   ]
  },
  {
   "cell_type": "code",
   "execution_count": 5,
   "metadata": {},
   "outputs": [
    {
     "data": {
      "text/html": [
       "<div>\n",
       "<style scoped>\n",
       "    .dataframe tbody tr th:only-of-type {\n",
       "        vertical-align: middle;\n",
       "    }\n",
       "\n",
       "    .dataframe tbody tr th {\n",
       "        vertical-align: top;\n",
       "    }\n",
       "\n",
       "    .dataframe thead th {\n",
       "        text-align: right;\n",
       "    }\n",
       "</style>\n",
       "<table border=\"1\" class=\"dataframe\">\n",
       "  <thead>\n",
       "    <tr style=\"text-align: right;\">\n",
       "      <th></th>\n",
       "      <th>title</th>\n",
       "      <th>url</th>\n",
       "      <th>type</th>\n",
       "      <th>date</th>\n",
       "      <th>views</th>\n",
       "      <th>main</th>\n",
       "      <th>additional</th>\n",
       "      <th>rating</th>\n",
       "      <th>comment</th>\n",
       "    </tr>\n",
       "  </thead>\n",
       "  <tbody>\n",
       "    <tr>\n",
       "      <th>105</th>\n",
       "      <td>Иллюстративный видеокурс по линейной алгебре: ...</td>\n",
       "      <td>https://proglib.io/p/algebra</td>\n",
       "      <td>подборка</td>\n",
       "      <td>2018-02-09</td>\n",
       "      <td>48928.0</td>\n",
       "      <td>Видео, курсы, ссылки</td>\n",
       "      <td>NaN</td>\n",
       "      <td>4</td>\n",
       "      <td>NaN</td>\n",
       "    </tr>\n",
       "    <tr>\n",
       "      <th>106</th>\n",
       "      <td>Как правильно искать и читать научные статьи?</td>\n",
       "      <td>https://proglib.io/p/research-papers</td>\n",
       "      <td>статья</td>\n",
       "      <td>2018-02-01</td>\n",
       "      <td>14177.0</td>\n",
       "      <td>Видео, курсы, ссылки</td>\n",
       "      <td>NaN</td>\n",
       "      <td>4</td>\n",
       "      <td>NaN</td>\n",
       "    </tr>\n",
       "    <tr>\n",
       "      <th>107</th>\n",
       "      <td>Создаем первый смарт-контракт на Ethereum мене...</td>\n",
       "      <td>https://proglib.io/p/smart-contract</td>\n",
       "      <td>перевод</td>\n",
       "      <td>2018-01-29</td>\n",
       "      <td>34008.0</td>\n",
       "      <td>Блокчейн</td>\n",
       "      <td>NaN</td>\n",
       "      <td>3</td>\n",
       "      <td>NaN</td>\n",
       "    </tr>\n",
       "    <tr>\n",
       "      <th>108</th>\n",
       "      <td>Импульсные нейронные сети: мозг в компьютере</td>\n",
       "      <td>https://proglib.io/p/spiking-neural-networks</td>\n",
       "      <td>перевод</td>\n",
       "      <td>2018-01-22</td>\n",
       "      <td>14656.0</td>\n",
       "      <td>Глубокое обучение</td>\n",
       "      <td>NaN</td>\n",
       "      <td>2</td>\n",
       "      <td>NaN</td>\n",
       "    </tr>\n",
       "    <tr>\n",
       "      <th>109</th>\n",
       "      <td>Как помочь ребенку выучить таблицу умножения</td>\n",
       "      <td>https://habr.com/ru/post/126043/</td>\n",
       "      <td>статья</td>\n",
       "      <td>2011-08-11</td>\n",
       "      <td>1000.0</td>\n",
       "      <td>Математика</td>\n",
       "      <td>NaN</td>\n",
       "      <td>5</td>\n",
       "      <td>NaN</td>\n",
       "    </tr>\n",
       "  </tbody>\n",
       "</table>\n",
       "</div>"
      ],
      "text/plain": [
       "                                                 title  \\\n",
       "105  Иллюстративный видеокурс по линейной алгебре: ...   \n",
       "106      Как правильно искать и читать научные статьи?   \n",
       "107  Создаем первый смарт-контракт на Ethereum мене...   \n",
       "108       Импульсные нейронные сети: мозг в компьютере   \n",
       "109       Как помочь ребенку выучить таблицу умножения   \n",
       "\n",
       "                                              url      type        date  \\\n",
       "105                  https://proglib.io/p/algebra  подборка  2018-02-09   \n",
       "106          https://proglib.io/p/research-papers    статья  2018-02-01   \n",
       "107           https://proglib.io/p/smart-contract   перевод  2018-01-29   \n",
       "108  https://proglib.io/p/spiking-neural-networks   перевод  2018-01-22   \n",
       "109              https://habr.com/ru/post/126043/    статья  2011-08-11   \n",
       "\n",
       "       views                  main additional  rating comment  \n",
       "105  48928.0  Видео, курсы, ссылки        NaN       4     NaN  \n",
       "106  14177.0  Видео, курсы, ссылки        NaN       4     NaN  \n",
       "107  34008.0              Блокчейн        NaN       3     NaN  \n",
       "108  14656.0     Глубокое обучение        NaN       2     NaN  \n",
       "109   1000.0            Математика        NaN       5     NaN  "
      ]
     },
     "execution_count": 5,
     "metadata": {},
     "output_type": "execute_result"
    }
   ],
   "source": [
    "df = pd.read_csv(\"posts.csv\")\n",
    "del df[\"Unnamed: 0\"]\n",
    "df.tail()"
   ]
  },
  {
   "cell_type": "markdown",
   "metadata": {},
   "source": [
    "# Просмотры\n",
    "\n",
    "Данные о просмотрах обновляются, в особенности для новых статей, которые я писал для [Библиотеки программиста](https://proglib.io). Пропарсим страницы новых публикаций и обновим сведения о просмотрах."
   ]
  },
  {
   "cell_type": "code",
   "execution_count": 3,
   "metadata": {},
   "outputs": [],
   "source": [
    "df_proglib = df[df['url'].apply(lambda x: 'proglib' in x)]"
   ]
  },
  {
   "cell_type": "code",
   "execution_count": 4,
   "metadata": {},
   "outputs": [],
   "source": [
    "def get_views_number(url:str):\n",
    "    '''Возвращает число просмотров для переданного url'''\n",
    "    page = requests.get(url, headers=headers).text\n",
    "    soup = BeautifulSoup(page, 'html.parser')\n",
    "    span = soup.body.find_all('span', {\"class\":\"ml-1\", \"data-views\":\"\"})[0]\n",
    "    \n",
    "    return span.text"
   ]
  },
  {
   "cell_type": "code",
   "execution_count": 5,
   "metadata": {},
   "outputs": [],
   "source": [
    "test_url = \"https://proglib.io/tests/test-na-obshchie-znaniya-dlya-middle-python-razrabotchika\"\n",
    "df_proglib = df_proglib[df_proglib['url']!=test_url]"
   ]
  },
  {
   "cell_type": "code",
   "execution_count": 6,
   "metadata": {
    "scrolled": false
   },
   "outputs": [],
   "source": [
    "# for url in df_proglib['url']:\n",
    "#     if pd.isnull(df.loc[df['url'] == url]['views'].values[0]):\n",
    "#         print(url)\n",
    "#         try:\n",
    "#             num = get_views_number(url)\n",
    "#             print(num)\n",
    "#             df.loc[df['url'] == url, ['views']] = num\n",
    "#         except:\n",
    "#             print(\"Error!\")\n",
    "#             continue"
   ]
  },
  {
   "cell_type": "code",
   "execution_count": 7,
   "metadata": {},
   "outputs": [
    {
     "data": {
      "text/plain": [
       "3436798.0"
      ]
     },
     "execution_count": 7,
     "metadata": {},
     "output_type": "execute_result"
    }
   ],
   "source": [
    "df['views'].astype(float).sum()"
   ]
  },
  {
   "cell_type": "code",
   "execution_count": 17,
   "metadata": {},
   "outputs": [],
   "source": [
    "df.to_csv('posts.csv')"
   ]
  },
  {
   "cell_type": "code",
   "execution_count": 24,
   "metadata": {},
   "outputs": [],
   "source": [
    "df.to_json(\"posts.json\")"
   ]
  },
  {
   "cell_type": "code",
   "execution_count": 14,
   "metadata": {},
   "outputs": [],
   "source": [
    "del df['Unnamed: 0']"
   ]
  },
  {
   "cell_type": "markdown",
   "metadata": {},
   "source": [
    "# Создание index.html из шаблона (template.html)"
   ]
  },
  {
   "cell_type": "code",
   "execution_count": 165,
   "metadata": {
    "scrolled": false
   },
   "outputs": [],
   "source": [
    "# Добавить обработку комментария, проверку на nan\n",
    "\n",
    "import collections\n",
    "\n",
    "def gen_h(soup, title, level=1):\n",
    "    h_tag = soup.new_tag('h'+str(level))\n",
    "    h_tag.string = title\n",
    "    return h_tag\n",
    "  \n",
    "\n",
    "def gen_li(soup, title, url, date, views,\n",
    "           rating, typ):\n",
    "    li_tag = soup.new_tag('li')\n",
    "    li_tag[\"data-views\"] = views\n",
    "    li_tag[\"data-rating\"] = rating\n",
    "    li_tag[\"data-type\"] = typ\n",
    "    a_tag = soup.new_tag('a', href=url)\n",
    "    time_tag = soup.new_tag('time', datetime=date)\n",
    "    time_tag.string = title\n",
    "    a_tag.insert(0, time_tag)\n",
    "    li_tag.insert(0, a_tag)\n",
    "    return li_tag\n",
    "\n",
    "\n",
    "def gen_ul(soup, selected:dict):\n",
    "    ul_tag = soup.new_tag('ul')\n",
    "    ul_tag.append('\\n')\n",
    "    for key in selected[\"title\"].keys():\n",
    "        title = selected[\"title\"][key]\n",
    "        url = selected[\"url\"][key]\n",
    "        date = selected[\"date\"][key]\n",
    "        views = selected[\"views\"][key]\n",
    "        rating = selected[\"rating\"][key]\n",
    "        typ = selected[\"type\"][key]\n",
    "        comment = selected[\"comment\"][key]\n",
    "        ul_tag.append(' '*4)\n",
    "        ul_tag.append(gen_li(soup, title, url, date, views,\n",
    "                             rating, typ))\n",
    "        ul_tag.append('\\n')\n",
    "    ul_tag.append(' '*2)\n",
    "    return ul_tag\n",
    "\n",
    "\n",
    "with open(\"../template.html\") as template:\n",
    "    soup = BeautifulSoup(template, \"lxml\")\n",
    "    article_tag = soup.find('article')\n",
    "    cf = df.copy()\n",
    "    c = collections.Counter(df['main'])\n",
    "    for (title, num) in c.most_common():\n",
    "        if num >= 5:\n",
    "            article_tag.append(gen_h(soup, title))\n",
    "            article_tag.append('\\n')\n",
    "            selected = cf[cf['main']==title].sort_values(by=['date'],\n",
    "                                                         ascending=False).to_dict()\n",
    "            cf = cf[cf['main']!=title]\n",
    "            article_tag.append(' '*2)\n",
    "            article_tag.append(gen_ul(soup, selected))\n",
    "            article_tag.append('\\n')\n",
    "    article_tag.append(gen_h(soup, \"Публикации по другим темам\"))\n",
    "    article_tag.append('\\n')\n",
    "    selected = cf.sort_values(by=['date'], ascending=False).to_dict()\n",
    "    article_tag.append(' '*2)\n",
    "    article_tag.append(gen_ul(soup, selected))\n",
    "    article_tag.append('\\n')\n",
    "        \n",
    "    html_file = open(\"../index.html\", \"w\")\n",
    "    html_file.write(soup.prettify())\n",
    "    html_file.close()"
   ]
  }
 ],
 "metadata": {
  "kernelspec": {
   "display_name": "Python 3",
   "language": "python",
   "name": "python3"
  },
  "language_info": {
   "codemirror_mode": {
    "name": "ipython",
    "version": 3
   },
   "file_extension": ".py",
   "mimetype": "text/x-python",
   "name": "python",
   "nbconvert_exporter": "python",
   "pygments_lexer": "ipython3",
   "version": "3.6.9"
  }
 },
 "nbformat": 4,
 "nbformat_minor": 2
}
